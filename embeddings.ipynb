{
 "cells": [
  {
   "cell_type": "code",
   "execution_count": 1,
   "metadata": {
    "id": "U4WQwZbU6pwS"
   },
   "outputs": [],
   "source": [
    "import os"
   ]
  },
  {
   "cell_type": "code",
   "execution_count": 2,
   "metadata": {
    "id": "YLGtQxlC7NLT"
   },
   "outputs": [],
   "source": [
    "import nltk\n",
    "from nltk.tokenize import word_tokenize\n",
    "import re\n",
    "from bs4 import BeautifulSoup"
   ]
  },
  {
   "cell_type": "code",
   "execution_count": 3,
   "metadata": {
    "id": "N91tQMPb7m-_"
   },
   "outputs": [],
   "source": [
    "import gensim\n",
    "from gensim.models import Word2Vec\n",
    "from nltk import ngrams\n",
    "from collections import Counter"
   ]
  },
  {
   "cell_type": "code",
   "execution_count": 10,
   "metadata": {
    "id": "1LhMR7Gi6klX"
   },
   "outputs": [],
   "source": [
    "f_texts = []\n",
    "dir_name = 'RuRsTreebank_full'\n",
    "for filename in os.listdir(dir_name):\n",
    "  with open(os.path.join(dir_name, filename), 'r', encoding='utf-8', errors='ignore') as f:\n",
    "    text = f.read()\n",
    "    f_texts.append(text)"
   ]
  },
  {
   "cell_type": "code",
   "execution_count": 13,
   "metadata": {
    "id": "vDdW7g5f6v9j"
   },
   "outputs": [],
   "source": [
    "text_clean = []\n",
    "for text in f_texts:\n",
    "  soup = BeautifulSoup (text, 'html.parser')\n",
    "\n",
    "  segments = soup.find_all('segment')\n",
    "  for segment in segments:\n",
    "      segment = str(segment)\n",
    "      r = re.search(r'>(.*)<', segment)\n",
    "      words = r.group(1).lower()\n",
    "      words = re.sub(r'[^\\w\\s]','', words)\n",
    "      text_clean.append(''.join(words))\n",
    "  "
   ]
  },
  {
   "cell_type": "code",
   "execution_count": 14,
   "metadata": {
    "id": "MSSr1t8Y8d88"
   },
   "outputs": [],
   "source": [
    "def get_ngrams(words):\n",
    "    bigram=[\"_\".join(phrases) for phrases in list(ngrams(words,2))]\n",
    "    trigram=[\"_\".join(phrases) for phrases in list(ngrams(words,3))]\n",
    "    return bigram, trigram\n",
    "\n",
    "words_clean = []\n",
    "for s in text_clean:\n",
    "    words_clean += word_tokenize(s)\n",
    "    \n",
    "bigram, trigram = get_ngrams(words_clean)"
   ]
  },
  {
   "cell_type": "code",
   "execution_count": 16,
   "metadata": {
    "id": "z_A5mXNg7yll"
   },
   "outputs": [],
   "source": [
    "training_data = []\n",
    "for sentence in text_clean:\n",
    "    l1 = word_tokenize(sentence)\n",
    "    l2 , l3 = get_ngrams(l1)\n",
    "    training_data.append(l1 + l2 + l3)"
   ]
  },
  {
   "cell_type": "code",
   "execution_count": 17,
   "metadata": {
    "id": "0Rn4r4Us9mRx"
   },
   "outputs": [],
   "source": [
    "model = gensim.models.Word2Vec(training_data)\n",
    "model.save('custom.embedding')\n",
    "model = gensim.models.Word2Vec.load('custom.embedding')"
   ]
  },
  {
   "cell_type": "code",
   "execution_count": null,
   "metadata": {},
   "outputs": [],
   "source": []
  }
 ],
 "metadata": {
  "colab": {
   "provenance": []
  },
  "kernelspec": {
   "display_name": "Python 3",
   "language": "python",
   "name": "python3"
  },
  "language_info": {
   "codemirror_mode": {
    "name": "ipython",
    "version": 3
   },
   "file_extension": ".py",
   "mimetype": "text/x-python",
   "name": "python",
   "nbconvert_exporter": "python",
   "pygments_lexer": "ipython3",
   "version": "3.7.4"
  }
 },
 "nbformat": 4,
 "nbformat_minor": 1
}
